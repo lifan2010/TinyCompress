!pip install requests



import os
import requests

# TinyPNG API keys
API_KEYS = [
    "YOUR_API_KEY_1",
    "YOUR_API_KEY_2",
    "YOUR_API_KEY_3",
    "YOUR_API_KEY_4"
]

# Folder paths
input_folder = "path_to_your_images"  # Change this to your input folder path
output_folder = "compress"
os.makedirs(output_folder, exist_ok=True)

def compress_image(api_key, image_path, output_path):
    url = "https://api.tinify.com/shrink"
    with open(image_path, "rb") as image_file:
        response = requests.post(url, auth=("api", api_key), data=image_file)

    if response.status_code == 201:
        # Retrieve the compressed image URL from the response
        result_url = response.json()["output"]["url"]
        # Download the compressed image
        result_response = requests.get(result_url)
        with open(output_path, "wb") as output_file:
            output_file.write(result_response.content)
        print(f"Compressed and saved: {output_path}")
    else:
        print(f"Failed to compress {image_path}: {response.status_code} - {response.text}")

def main():
    image_files = [f for f in os.listdir(input_folder) if f.endswith((".jpg", ".jpeg", ".png"))]
    total_images = len(image_files)
    key_index = 0

    for i, image_file in enumerate(image_files):
        api_key = API_KEYS[key_index]
        image_path = os.path.join(input_folder, image_file)
        output_path = os.path.join(output_folder, image_file)

        compress_image(api_key, image_path, output_path)

        if (i + 1) % 450 == 0:  # Switch API key after every 450 images
            key_index += 1
            if key_index >= len(API_KEYS):
                print("All API keys have been exhausted.")
                break

    print("All images processed.")

if __name__ == "__main__":
    main()

